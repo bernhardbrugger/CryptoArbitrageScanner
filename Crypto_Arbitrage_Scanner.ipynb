{
  "nbformat": 4,
  "nbformat_minor": 0,
  "metadata": {
    "colab": {
      "provenance": []
    },
    "kernelspec": {
      "name": "python3",
      "display_name": "Python 3"
    },
    "language_info": {
      "name": "python"
    }
  },
  "cells": [
    {
      "cell_type": "markdown",
      "source": [
        "# 🌟 Let's Build a Cutting-Edge Crypto-Arbitrage Opportunity Scanner! 🚀\n",
        "## Scan Over 100 Exchanges in Real-Time 💰"
      ],
      "metadata": {
        "id": "cwQzft_ABDKn"
      }
    },
    {
      "cell_type": "code",
      "source": [
        "!pip install -q ccxt"
      ],
      "metadata": {
        "id": "GJR-KFnjCgLH"
      },
      "execution_count": null,
      "outputs": []
    },
    {
      "cell_type": "code",
      "source": [
        "# Class for printing in colors:\n",
        "\n",
        "class bcolors:\n",
        "    HEADER = '\\033[95m'\n",
        "    OKBLUE = '\\033[94m'\n",
        "    OKCYAN = '\\033[96m'\n",
        "    OKGREEN = '\\033[92m'\n",
        "    WARNING = '\\033[96m'\n",
        "    FAIL = '\\033[94m'\n",
        "    ENDC = '\\033[0m'\n",
        "    BOLD = '\\033[1m'\n",
        "    UNDERLINE = '\\033[4m'"
      ],
      "metadata": {
        "id": "A92DCqWuCmQG"
      },
      "execution_count": null,
      "outputs": []
    },
    {
      "cell_type": "code",
      "source": [
        "import ccxt\n",
        "import time\n",
        "from typing import TypedDict\n",
        "from ccxt import Exchange\n",
        "import datetime\n",
        "from itertools import combinations"
      ],
      "metadata": {
        "id": "s59kXpV9Cp-M"
      },
      "execution_count": null,
      "outputs": []
    },
    {
      "cell_type": "code",
      "source": [
        "import ccxt\n",
        "from typing import TypedDict\n",
        "\n",
        "# Assuming bcolors and ct are defined elsewhere\n",
        "class bcolors:\n",
        "    OKGREEN = '\\033[92m'\n",
        "    WARNING = '\\033[93m'\n",
        "    FAIL = '\\033[91m'\n",
        "    BOLD = '\\033[1m'\n",
        "    ENDC = '\\033[0m'\n",
        "\n",
        "ct = \"CurrentTime\"  # Placeholder for the actual time value or function\n",
        "\n",
        "exchange_ids = ccxt.exchanges\n",
        "exchanges = {}\n",
        "\n",
        "for exchange_id in exchange_ids:\n",
        "    exchange_object = getattr(ccxt, exchange_id)()\n",
        "    exchanges[exchange_id] = exchange_object\n",
        "\n",
        "top_10_ao = []\n",
        "\n",
        "class ArbitrageParams(TypedDict):\n",
        "    exchange1: ccxt.Exchange\n",
        "    exchange2: ccxt.Exchange\n",
        "\n",
        "def is_exchange_accessible(exchange: ccxt.Exchange):\n",
        "    if exchange.has.get('fetchStatus'):\n",
        "        try:\n",
        "            exchange.fetchStatus()\n",
        "            return True\n",
        "        except Exception as e:\n",
        "            if \"Service unavailable from a restricted location\" in str(e):\n",
        "                return False\n",
        "            else:\n",
        "                raise e\n",
        "    else:\n",
        "        print(f\"Warning: 'fetchStatus' method not supported by {exchange.id}\")\n",
        "        return True\n",
        "\n",
        "def check_arbitrage(params: ArbitrageParams, symbol: str, timestamp: str):\n",
        "    exchange1 = params[\"exchange1\"]\n",
        "    exchange2 = params[\"exchange2\"]\n",
        "\n",
        "    if not is_exchange_accessible(exchange1):\n",
        "        print(bcolors.FAIL + f\"{ct} [RESTRICTION] Geographic restrictions for exchange {exchange1.id}. Skipping...\" + bcolors.ENDC)\n",
        "        return\n",
        "    if not is_exchange_accessible(exchange2):\n",
        "        print(bcolors.FAIL + f\"{ct} [RESTRICTION] Geographic restrictions for exchange {exchange2.id}. Skipping...\" + bcolors.ENDC)\n",
        "        return\n",
        "    if not hasattr(exchange1, 'fetch_ticker'):\n",
        "        print(bcolors.FAIL + f\"{ct} [NO SUPPORT] Exchange {exchange1.id} does not support fetching tickers. Skipping...\" + bcolors.ENDC)\n",
        "        return\n",
        "    if not hasattr(exchange2, 'fetch_ticker'):\n",
        "        print(bcolors.FAIL + f\"{ct} [NO SUPPORT] Exchange {exchange2.id} does not support fetching tickers. Skipping...\" + bcolors.ENDC)\n",
        "        return\n",
        "\n",
        "    try:\n",
        "        ticker1 = exchange1.fetch_ticker(symbol)\n",
        "        ticker2 = exchange2.fetch_ticker(symbol)\n",
        "    except Exception as e:\n",
        "        print(bcolors.FAIL + f\"{ct} [UNKNOWN ERROR] Error fetching ticker for {symbol} on {exchange1.id}: {e}\" + bcolors.ENDC)\n",
        "        return\n",
        "\n",
        "    if ticker1['last'] < ticker2['last']:\n",
        "        spread = ((ticker2['last'] / ticker1['last']) - 1) * 100\n",
        "        if spread < 1:\n",
        "            print(bcolors.WARNING + f\"{ct} [TOO SMALL - DON'T WASTE YOUR TIME] Arbitrage opportunity! Buy BTC on {exchange1.id} and sell on {exchange2.id}. Take Profit {round(spread, 4)} %\" + bcolors.ENDC)\n",
        "        else:\n",
        "            top_10_ao.append(spread)\n",
        "            print(bcolors.OKGREEN + bcolors.BOLD + f\"{ct} [$$$ JACKPOT $$$] Arbitrage opportunity! Buy BTC on {exchange1.id} and sell on {exchange2.id}. Take Profit {round(spread, 4)} %\" + bcolors.ENDC)\n",
        "    elif ticker1['last'] > ticker2['last']:\n",
        "        spread = ((ticker1['last'] / ticker2['last']) - 1) * 100\n",
        "        if spread < 1:\n",
        "            print(bcolors.WARNING + f\"{ct} [TOO SMALL - DON'T WASTE YOUR TIME] Arbitrage opportunity! Buy BTC on {exchange2.id} and sell on {exchange1.id}. Take Profit {round(spread, 4)} %\" + bcolors.ENDC)\n",
        "        else:\n",
        "            top_10_ao.append(spread)\n",
        "            print(bcolors.OKGREEN + bcolors.BOLD + f\"{ct} [$$$ JACKPOT $$$] Arbitrage opportunity! Buy BTC on {exchange2.id} and sell on {exchange1.id}. Take Profit {round(spread, 4)} %\" + bcolors.ENDC)\n",
        "    else:\n",
        "        print(bcolors.FAIL + f\"{ct} [INFO] No arbitrage opportunity for {symbol} between {exchange1.id} and {exchange2.id}\" + bcolors.ENDC)\n"
      ],
      "metadata": {
        "id": "FuBFtuB1C1YG"
      },
      "execution_count": null,
      "outputs": []
    },
    {
      "cell_type": "code",
      "source": [
        "import ccxt\n",
        "import time\n",
        "from typing import TypedDict\n",
        "from ccxt import Exchange\n",
        "import datetime\n",
        "from itertools import combinations\n",
        "\n",
        "exchange_ids = ccxt.exchanges\n",
        "exchanges = {}\n",
        "for exchange_id in exchange_ids:\n",
        "    exchange_object = getattr(ccxt, exchange_id)()\n",
        "    exchanges[exchange_id] = exchange_object\n",
        "top_10_ao = {}\n",
        "\n",
        "class ArbitrageParams(TypedDict):\n",
        "    exchange1: Exchange\n",
        "    exchange2: Exchange\n",
        "\n",
        "def is_exchange_accessible(exchange: Exchange):\n",
        "    if exchange.has.get('fetchStatus'):\n",
        "        try:\n",
        "            exchange.fetchStatus()\n",
        "            return True\n",
        "        except Exception as e:\n",
        "            if \"Service unavailable from a restricted location\" in str(e):\n",
        "                return False\n",
        "            else:\n",
        "                raise e\n",
        "    else:\n",
        "        #print(f\"Warning: 'fetchStatus' method not supported by {exchange.id}\")\n",
        "        return True  # Or handle this situation according to your needs\n",
        "\n",
        "def check_arbitrage(params: ArbitrageParams, symbol: str, timestamp: str):\n",
        "    exchange1 = params[\"exchange1\"]\n",
        "    exchange2 = params[\"exchange2\"]\n",
        "\n",
        "    # Check if the exchanges are accessible before fetching tickers\n",
        "    if not is_exchange_accessible(exchange1):\n",
        "        print(bcolors.FAIL + f\"{ct} [RESTRICTION] Geographic restrictions for exchange {exchange1.id}. Skipping...\" + bcolors.ENDC)\n",
        "        return\n",
        "\n",
        "    if not is_exchange_accessible(exchange2):\n",
        "        print(bcolors.FAIL + f\"{ct} [RESTRICTION] Geographic restrictions for exchange {exchange2.id}. Skipping...\" + bcolors.ENDC)\n",
        "        return\n",
        "\n",
        "    # Check if the exchange has the required method\n",
        "    if not hasattr(exchange1, 'fetch_ticker'):\n",
        "        print(bcolors.FAIL + f\"{ct} [NO SUPPORT] Exchange {exchange1.id} does not support fetching tickers. Skipping...\" + bcolors.ENDC)\n",
        "        return\n",
        "\n",
        "    if not hasattr(exchange2, 'fetch_ticker'):\n",
        "        print(bcolors.FAIL + f\"{ct} [NO SUPPORT] Exchange {exchange2.id} does not support fetching tickers. Skipping...\" + bcolors.ENDC)\n",
        "        return\n",
        "    try:\n",
        "        ticker1 = exchange1.fetch_ticker(symbol)\n",
        "        ticker2 = exchange2.fetch_ticker(symbol)\n",
        "    except Exception as e:\n",
        "        print(bcolors.FAIL + f\"{ct} [UNKNOWN ERROR] Error fetching ticker for {symbol} on {exchange1.id}: {e}\" + bcolors.ENDC)\n",
        "        return\n",
        "    if ticker1['last'] < ticker2['last']:\n",
        "        spread = ((ticker2['last'] / ticker1['last']) - 1) * 100\n",
        "        if spread < 1:\n",
        "            print(bcolors.WARNING + f\"{ct} [TOO SMALL - DON'T WASTE YOUR TIME] Arbitrage opportunity! Buy BTC on {exchange1.id} and sell on {exchange2.id}. Take Profit {round(spread, 4)} %\" + bcolors.ENDC)\n",
        "        else:\n",
        "          top_10_ao.append(spread)\n",
        "          print(bcolors.OKGREEN + bcolors.BOLD + f\"{ct} [$$$ JACKPOT $$$] Arbitrage opportunity! Buy BTC on {exchange1.id} and sell on {exchange2.id}. Take Profit {round(spread, 4)} %\" + bcolors.ENDC)\n",
        "    elif ticker1['last'] > ticker2['last']:\n",
        "        spread = ((ticker1['last'] / ticker2['last']) - 1) * 100\n",
        "        if spread < 1:\n",
        "          print(bcolors.WARNING + f\"{ct} [TOO SMALL - DON'T WASTE YOUR TIME] Arbitrage opportunity! Buy BTC on {exchange2.id} and sell on {exchange1.id}. Take Profit {round(spread, 4)} %\" + bcolors.ENDC)\n",
        "        else:\n",
        "          top_10_ao.append(spread)\n",
        "          print(bcolors.OKGREEN + bcolors.BOLD + f\"{ct} [$$$ JACKPOT $$$] Arbitrage opportunity! Buy BTC on {exchange2.id} and sell on {exchange1.id}. Take Profit {round(spread, 4)} %\" + bcolors.ENDC)\n",
        "    else:\n",
        "        print(bcolors.FAIL + f\"{ct} [INFO] No arbitrage opportunity for {symbol} between {exchange1.id} and {exchange2.id}\" + bcolors.ENDC)"
      ],
      "metadata": {
        "id": "NK7ZHs0TNvcR"
      },
      "execution_count": null,
      "outputs": []
    },
    {
      "cell_type": "code",
      "source": [
        "symbol = \"BTC/USDT\"\n",
        "\n",
        "# Iterate through all possible exchange pairs\n",
        "for exchange1_name, exchange1 in exchanges.items():\n",
        "    for exchange2_name, exchange2 in exchanges.items():\n",
        "        ct = datetime.datetime.now()\n",
        "        if exchange1_name != exchange2_name:\n",
        "            params: ArbitrageParams = {\n",
        "                \"exchange1\": exchange1,\n",
        "                \"exchange2\": exchange2\n",
        "            }\n",
        "\n",
        "            try:\n",
        "                check_arbitrage(params, symbol, ct)\n",
        "                if len(top_10_ao) >= 10:\n",
        "                  print(bcolors.OKCYAN +f\"TOP 10 PICKS: {sorted(top_10_ao)[:10]}\" + bcolors.ENDC)\n",
        "            except Exception as e:\n",
        "                print(bcolors.FAIL + f\"{ct} [UNKNOWN ERROR] Unexpected error occured: {e}\" + bcolors.ENDC)\n",
        "\n",
        "        time.sleep(1)"
      ],
      "metadata": {
        "colab": {
          "base_uri": "https://localhost:8080/",
          "height": 627
        },
        "id": "4r_Fku2PO8Ok",
        "outputId": "f6b8215a-8f68-44ba-f3c3-cae97fd3ef50"
      },
      "execution_count": null,
      "outputs": [
        {
          "output_type": "stream",
          "name": "stdout",
          "text": [
            "\u001b[94m2024-06-25 07:11:30.228841 [UNKNOWN ERROR] Error fetching ticker for BTC/USDT on ace: alpaca fetchTicker() is not supported yet\u001b[0m\n",
            "\u001b[96m2024-06-25 07:11:31.518590 [TOO SMALL - DON'T WASTE YOUR TIME] Arbitrage opportunity! Buy BTC on ascendex and sell on ace. Take Profit 0.0029 %\u001b[0m\n",
            "\u001b[96m2024-06-25 07:11:32.986068 [TOO SMALL - DON'T WASTE YOUR TIME] Arbitrage opportunity! Buy BTC on ace and sell on bequant. Take Profit 0.0214 %\u001b[0m\n",
            "\u001b[96m2024-06-25 07:11:34.373051 [TOO SMALL - DON'T WASTE YOUR TIME] Arbitrage opportunity! Buy BTC on ace and sell on bigone. Take Profit 0.0016 %\u001b[0m\n",
            "\u001b[94m2024-06-25 07:11:38.594748 [RESTRICTION] Geographic restrictions for exchange binance. Skipping...\u001b[0m\n",
            "\u001b[94m2024-06-25 07:11:39.727416 [RESTRICTION] Geographic restrictions for exchange binancecoinm. Skipping...\u001b[0m\n",
            "\u001b[94m2024-06-25 07:11:40.829527 [UNKNOWN ERROR] Unexpected error occured: binanceus {\"code\":-2014,\"msg\":\"API-key format invalid.\"}\u001b[0m\n",
            "\u001b[94m2024-06-25 07:11:42.067790 [RESTRICTION] Geographic restrictions for exchange binanceusdm. Skipping...\u001b[0m\n",
            "\u001b[96m2024-06-25 07:11:43.170131 [TOO SMALL - DON'T WASTE YOUR TIME] Arbitrage opportunity! Buy BTC on bingx and sell on ace. Take Profit 0.0323 %\u001b[0m\n",
            "\u001b[94m2024-06-25 07:11:46.647711 [UNKNOWN ERROR] Error fetching ticker for BTC/USDT on ace: bit2c does not have market symbol BTC/USDT\u001b[0m\n",
            "\u001b[94m2024-06-25 07:11:47.958277 [UNKNOWN ERROR] Error fetching ticker for BTC/USDT on ace: bitbank does not have market symbol BTC/USDT\u001b[0m\n",
            "\u001b[96m2024-06-25 07:11:50.061879 [TOO SMALL - DON'T WASTE YOUR TIME] Arbitrage opportunity! Buy BTC on ace and sell on bitbay. Take Profit 0.0539 %\u001b[0m\n",
            "\u001b[94m2024-06-25 07:11:52.569759 [UNKNOWN ERROR] Unexpected error occured: bitbns requires \"apiKey\" credential\u001b[0m\n",
            "\u001b[96m2024-06-25 07:11:53.571204 [TOO SMALL - DON'T WASTE YOUR TIME] Arbitrage opportunity! Buy BTC on ace and sell on bitcoincom. Take Profit 0.0278 %\u001b[0m\n"
          ]
        },
        {
          "output_type": "error",
          "ename": "KeyboardInterrupt",
          "evalue": "",
          "traceback": [
            "\u001b[0;31m---------------------------------------------------------------------------\u001b[0m",
            "\u001b[0;31mKeyboardInterrupt\u001b[0m                         Traceback (most recent call last)",
            "\u001b[0;32m<ipython-input-10-afadb99b38e6>\u001b[0m in \u001b[0;36m<cell line: 4>\u001b[0;34m()\u001b[0m\n\u001b[1;32m     12\u001b[0m \u001b[0;34m\u001b[0m\u001b[0m\n\u001b[1;32m     13\u001b[0m             \u001b[0;32mtry\u001b[0m\u001b[0;34m:\u001b[0m\u001b[0;34m\u001b[0m\u001b[0;34m\u001b[0m\u001b[0m\n\u001b[0;32m---> 14\u001b[0;31m                 \u001b[0mcheck_arbitrage\u001b[0m\u001b[0;34m(\u001b[0m\u001b[0mparams\u001b[0m\u001b[0;34m,\u001b[0m \u001b[0msymbol\u001b[0m\u001b[0;34m,\u001b[0m \u001b[0mct\u001b[0m\u001b[0;34m)\u001b[0m\u001b[0;34m\u001b[0m\u001b[0;34m\u001b[0m\u001b[0m\n\u001b[0m\u001b[1;32m     15\u001b[0m                 \u001b[0;32mif\u001b[0m \u001b[0mlen\u001b[0m\u001b[0;34m(\u001b[0m\u001b[0mtop_10_ao\u001b[0m\u001b[0;34m)\u001b[0m \u001b[0;34m>=\u001b[0m \u001b[0;36m10\u001b[0m\u001b[0;34m:\u001b[0m\u001b[0;34m\u001b[0m\u001b[0;34m\u001b[0m\u001b[0m\n\u001b[1;32m     16\u001b[0m                   \u001b[0mprint\u001b[0m\u001b[0;34m(\u001b[0m\u001b[0mbcolors\u001b[0m\u001b[0;34m.\u001b[0m\u001b[0mOKCYAN\u001b[0m \u001b[0;34m+\u001b[0m\u001b[0;34mf\"TOP 10 PICKS: {sorted(top_10_ao)[:10]}\"\u001b[0m \u001b[0;34m+\u001b[0m \u001b[0mbcolors\u001b[0m\u001b[0;34m.\u001b[0m\u001b[0mENDC\u001b[0m\u001b[0;34m)\u001b[0m\u001b[0;34m\u001b[0m\u001b[0;34m\u001b[0m\u001b[0m\n",
            "\u001b[0;32m<ipython-input-8-79d2d3aa3f35>\u001b[0m in \u001b[0;36mcheck_arbitrage\u001b[0;34m(params, symbol, timestamp)\u001b[0m\n\u001b[1;32m     54\u001b[0m     \u001b[0;32mtry\u001b[0m\u001b[0;34m:\u001b[0m\u001b[0;34m\u001b[0m\u001b[0;34m\u001b[0m\u001b[0m\n\u001b[1;32m     55\u001b[0m         \u001b[0mticker1\u001b[0m \u001b[0;34m=\u001b[0m \u001b[0mexchange1\u001b[0m\u001b[0;34m.\u001b[0m\u001b[0mfetch_ticker\u001b[0m\u001b[0;34m(\u001b[0m\u001b[0msymbol\u001b[0m\u001b[0;34m)\u001b[0m\u001b[0;34m\u001b[0m\u001b[0;34m\u001b[0m\u001b[0m\n\u001b[0;32m---> 56\u001b[0;31m         \u001b[0mticker2\u001b[0m \u001b[0;34m=\u001b[0m \u001b[0mexchange2\u001b[0m\u001b[0;34m.\u001b[0m\u001b[0mfetch_ticker\u001b[0m\u001b[0;34m(\u001b[0m\u001b[0msymbol\u001b[0m\u001b[0;34m)\u001b[0m\u001b[0;34m\u001b[0m\u001b[0;34m\u001b[0m\u001b[0m\n\u001b[0m\u001b[1;32m     57\u001b[0m     \u001b[0;32mexcept\u001b[0m \u001b[0mException\u001b[0m \u001b[0;32mas\u001b[0m \u001b[0me\u001b[0m\u001b[0;34m:\u001b[0m\u001b[0;34m\u001b[0m\u001b[0;34m\u001b[0m\u001b[0m\n\u001b[1;32m     58\u001b[0m         \u001b[0mprint\u001b[0m\u001b[0;34m(\u001b[0m\u001b[0mbcolors\u001b[0m\u001b[0;34m.\u001b[0m\u001b[0mFAIL\u001b[0m \u001b[0;34m+\u001b[0m \u001b[0;34mf\"{ct} [UNKNOWN ERROR] Error fetching ticker for {symbol} on {exchange1.id}: {e}\"\u001b[0m \u001b[0;34m+\u001b[0m \u001b[0mbcolors\u001b[0m\u001b[0;34m.\u001b[0m\u001b[0mENDC\u001b[0m\u001b[0;34m)\u001b[0m\u001b[0;34m\u001b[0m\u001b[0;34m\u001b[0m\u001b[0m\n",
            "\u001b[0;32m/usr/local/lib/python3.10/dist-packages/ccxt/bitfinex.py\u001b[0m in \u001b[0;36mfetch_ticker\u001b[0;34m(self, symbol, params)\u001b[0m\n\u001b[1;32m    855\u001b[0m         \u001b[0;34m:\u001b[0m\u001b[0mreturns\u001b[0m \u001b[0mdict\u001b[0m\u001b[0;34m:\u001b[0m \u001b[0ma\u001b[0m\u001b[0;31m \u001b[0m\u001b[0;31m`\u001b[0m\u001b[0mticker\u001b[0m \u001b[0mstructure\u001b[0m \u001b[0;34m<\u001b[0m\u001b[0mhttps\u001b[0m\u001b[0;34m:\u001b[0m\u001b[0;34m//\u001b[0m\u001b[0mdocs\u001b[0m\u001b[0;34m.\u001b[0m\u001b[0mccxt\u001b[0m\u001b[0;34m.\u001b[0m\u001b[0mcom\u001b[0m\u001b[0;34m/\u001b[0m\u001b[0;31m#/?id=ticker-structure>`\u001b[0m\u001b[0;34m\u001b[0m\u001b[0;34m\u001b[0m\u001b[0m\n\u001b[1;32m    856\u001b[0m         \"\"\"\n\u001b[0;32m--> 857\u001b[0;31m         \u001b[0mself\u001b[0m\u001b[0;34m.\u001b[0m\u001b[0mload_markets\u001b[0m\u001b[0;34m(\u001b[0m\u001b[0;34m)\u001b[0m\u001b[0;34m\u001b[0m\u001b[0;34m\u001b[0m\u001b[0m\n\u001b[0m\u001b[1;32m    858\u001b[0m         \u001b[0mmarket\u001b[0m \u001b[0;34m=\u001b[0m \u001b[0mself\u001b[0m\u001b[0;34m.\u001b[0m\u001b[0mmarket\u001b[0m\u001b[0;34m(\u001b[0m\u001b[0msymbol\u001b[0m\u001b[0;34m)\u001b[0m\u001b[0;34m\u001b[0m\u001b[0;34m\u001b[0m\u001b[0m\n\u001b[1;32m    859\u001b[0m         request: dict = {\n",
            "\u001b[0;32m/usr/local/lib/python3.10/dist-packages/ccxt/base/exchange.py\u001b[0m in \u001b[0;36mload_markets\u001b[0;34m(self, reload, params)\u001b[0m\n\u001b[1;32m   1538\u001b[0m         \u001b[0;32mif\u001b[0m \u001b[0mself\u001b[0m\u001b[0;34m.\u001b[0m\u001b[0mhas\u001b[0m\u001b[0;34m[\u001b[0m\u001b[0;34m'fetchCurrencies'\u001b[0m\u001b[0;34m]\u001b[0m \u001b[0;32mis\u001b[0m \u001b[0;32mTrue\u001b[0m\u001b[0;34m:\u001b[0m\u001b[0;34m\u001b[0m\u001b[0;34m\u001b[0m\u001b[0m\n\u001b[1;32m   1539\u001b[0m             \u001b[0mcurrencies\u001b[0m \u001b[0;34m=\u001b[0m \u001b[0mself\u001b[0m\u001b[0;34m.\u001b[0m\u001b[0mfetch_currencies\u001b[0m\u001b[0;34m(\u001b[0m\u001b[0;34m)\u001b[0m\u001b[0;34m\u001b[0m\u001b[0;34m\u001b[0m\u001b[0m\n\u001b[0;32m-> 1540\u001b[0;31m         \u001b[0mmarkets\u001b[0m \u001b[0;34m=\u001b[0m \u001b[0mself\u001b[0m\u001b[0;34m.\u001b[0m\u001b[0mfetch_markets\u001b[0m\u001b[0;34m(\u001b[0m\u001b[0mparams\u001b[0m\u001b[0;34m)\u001b[0m\u001b[0;34m\u001b[0m\u001b[0;34m\u001b[0m\u001b[0m\n\u001b[0m\u001b[1;32m   1541\u001b[0m         \u001b[0;32mreturn\u001b[0m \u001b[0mself\u001b[0m\u001b[0;34m.\u001b[0m\u001b[0mset_markets\u001b[0m\u001b[0;34m(\u001b[0m\u001b[0mmarkets\u001b[0m\u001b[0;34m,\u001b[0m \u001b[0mcurrencies\u001b[0m\u001b[0;34m)\u001b[0m\u001b[0;34m\u001b[0m\u001b[0;34m\u001b[0m\u001b[0m\n\u001b[1;32m   1542\u001b[0m \u001b[0;34m\u001b[0m\u001b[0m\n",
            "\u001b[0;32m/usr/local/lib/python3.10/dist-packages/ccxt/bitfinex.py\u001b[0m in \u001b[0;36mfetch_markets\u001b[0;34m(self, params)\u001b[0m\n\u001b[1;32m    570\u001b[0m         \u001b[0;31m#     [\"btcusd\", \"ltcusd\", \"ltcbtc\"]\u001b[0m\u001b[0;34m\u001b[0m\u001b[0;34m\u001b[0m\u001b[0m\n\u001b[1;32m    571\u001b[0m         \u001b[0;31m#\u001b[0m\u001b[0;34m\u001b[0m\u001b[0;34m\u001b[0m\u001b[0m\n\u001b[0;32m--> 572\u001b[0;31m         \u001b[0mdetails\u001b[0m \u001b[0;34m=\u001b[0m \u001b[0mself\u001b[0m\u001b[0;34m.\u001b[0m\u001b[0mpublicGetSymbolsDetails\u001b[0m\u001b[0;34m(\u001b[0m\u001b[0;34m)\u001b[0m\u001b[0;34m\u001b[0m\u001b[0;34m\u001b[0m\u001b[0m\n\u001b[0m\u001b[1;32m    573\u001b[0m         \u001b[0;31m#\u001b[0m\u001b[0;34m\u001b[0m\u001b[0;34m\u001b[0m\u001b[0m\n\u001b[1;32m    574\u001b[0m         \u001b[0;31m#     [\u001b[0m\u001b[0;34m\u001b[0m\u001b[0;34m\u001b[0m\u001b[0m\n",
            "\u001b[0;32m/usr/local/lib/python3.10/dist-packages/ccxt/base/types.py\u001b[0m in \u001b[0;36munbound_method\u001b[0;34m(_self, params)\u001b[0m\n\u001b[1;32m     33\u001b[0m \u001b[0;34m\u001b[0m\u001b[0m\n\u001b[1;32m     34\u001b[0m         \u001b[0;32mdef\u001b[0m \u001b[0munbound_method\u001b[0m\u001b[0;34m(\u001b[0m\u001b[0m_self\u001b[0m\u001b[0;34m,\u001b[0m \u001b[0mparams\u001b[0m\u001b[0;34m=\u001b[0m\u001b[0;34m{\u001b[0m\u001b[0;34m}\u001b[0m\u001b[0;34m)\u001b[0m\u001b[0;34m:\u001b[0m\u001b[0;34m\u001b[0m\u001b[0;34m\u001b[0m\u001b[0m\n\u001b[0;32m---> 35\u001b[0;31m             \u001b[0;32mreturn\u001b[0m \u001b[0m_self\u001b[0m\u001b[0;34m.\u001b[0m\u001b[0mrequest\u001b[0m\u001b[0;34m(\u001b[0m\u001b[0mself\u001b[0m\u001b[0;34m.\u001b[0m\u001b[0mpath\u001b[0m\u001b[0;34m,\u001b[0m \u001b[0mself\u001b[0m\u001b[0;34m.\u001b[0m\u001b[0mapi\u001b[0m\u001b[0;34m,\u001b[0m \u001b[0mself\u001b[0m\u001b[0;34m.\u001b[0m\u001b[0mmethod\u001b[0m\u001b[0;34m,\u001b[0m \u001b[0mparams\u001b[0m\u001b[0;34m,\u001b[0m \u001b[0mconfig\u001b[0m\u001b[0;34m=\u001b[0m\u001b[0mself\u001b[0m\u001b[0;34m.\u001b[0m\u001b[0mconfig\u001b[0m\u001b[0;34m)\u001b[0m\u001b[0;34m\u001b[0m\u001b[0;34m\u001b[0m\u001b[0m\n\u001b[0m\u001b[1;32m     36\u001b[0m \u001b[0;34m\u001b[0m\u001b[0m\n\u001b[1;32m     37\u001b[0m         \u001b[0mself\u001b[0m\u001b[0;34m.\u001b[0m\u001b[0munbound_method\u001b[0m \u001b[0;34m=\u001b[0m \u001b[0munbound_method\u001b[0m\u001b[0;34m\u001b[0m\u001b[0;34m\u001b[0m\u001b[0m\n",
            "\u001b[0;32m/usr/local/lib/python3.10/dist-packages/ccxt/base/exchange.py\u001b[0m in \u001b[0;36mrequest\u001b[0;34m(self, path, api, method, params, headers, body, config)\u001b[0m\n\u001b[1;32m   3738\u001b[0m \u001b[0;34m\u001b[0m\u001b[0m\n\u001b[1;32m   3739\u001b[0m     \u001b[0;32mdef\u001b[0m \u001b[0mrequest\u001b[0m\u001b[0;34m(\u001b[0m\u001b[0mself\u001b[0m\u001b[0;34m,\u001b[0m \u001b[0mpath\u001b[0m\u001b[0;34m,\u001b[0m \u001b[0mapi\u001b[0m\u001b[0;34m:\u001b[0m \u001b[0mAny\u001b[0m \u001b[0;34m=\u001b[0m \u001b[0;34m'public'\u001b[0m\u001b[0;34m,\u001b[0m \u001b[0mmethod\u001b[0m\u001b[0;34m=\u001b[0m\u001b[0;34m'GET'\u001b[0m\u001b[0;34m,\u001b[0m \u001b[0mparams\u001b[0m\u001b[0;34m=\u001b[0m\u001b[0;34m{\u001b[0m\u001b[0;34m}\u001b[0m\u001b[0;34m,\u001b[0m \u001b[0mheaders\u001b[0m\u001b[0;34m:\u001b[0m \u001b[0mAny\u001b[0m \u001b[0;34m=\u001b[0m \u001b[0;32mNone\u001b[0m\u001b[0;34m,\u001b[0m \u001b[0mbody\u001b[0m\u001b[0;34m:\u001b[0m \u001b[0mAny\u001b[0m \u001b[0;34m=\u001b[0m \u001b[0;32mNone\u001b[0m\u001b[0;34m,\u001b[0m \u001b[0mconfig\u001b[0m\u001b[0;34m=\u001b[0m\u001b[0;34m{\u001b[0m\u001b[0;34m}\u001b[0m\u001b[0;34m)\u001b[0m\u001b[0;34m:\u001b[0m\u001b[0;34m\u001b[0m\u001b[0;34m\u001b[0m\u001b[0m\n\u001b[0;32m-> 3740\u001b[0;31m         \u001b[0;32mreturn\u001b[0m \u001b[0mself\u001b[0m\u001b[0;34m.\u001b[0m\u001b[0mfetch2\u001b[0m\u001b[0;34m(\u001b[0m\u001b[0mpath\u001b[0m\u001b[0;34m,\u001b[0m \u001b[0mapi\u001b[0m\u001b[0;34m,\u001b[0m \u001b[0mmethod\u001b[0m\u001b[0;34m,\u001b[0m \u001b[0mparams\u001b[0m\u001b[0;34m,\u001b[0m \u001b[0mheaders\u001b[0m\u001b[0;34m,\u001b[0m \u001b[0mbody\u001b[0m\u001b[0;34m,\u001b[0m \u001b[0mconfig\u001b[0m\u001b[0;34m)\u001b[0m\u001b[0;34m\u001b[0m\u001b[0;34m\u001b[0m\u001b[0m\n\u001b[0m\u001b[1;32m   3741\u001b[0m \u001b[0;34m\u001b[0m\u001b[0m\n\u001b[1;32m   3742\u001b[0m     \u001b[0;32mdef\u001b[0m \u001b[0mload_accounts\u001b[0m\u001b[0;34m(\u001b[0m\u001b[0mself\u001b[0m\u001b[0;34m,\u001b[0m \u001b[0mreload\u001b[0m\u001b[0;34m=\u001b[0m\u001b[0;32mFalse\u001b[0m\u001b[0;34m,\u001b[0m \u001b[0mparams\u001b[0m\u001b[0;34m=\u001b[0m\u001b[0;34m{\u001b[0m\u001b[0;34m}\u001b[0m\u001b[0;34m)\u001b[0m\u001b[0;34m:\u001b[0m\u001b[0;34m\u001b[0m\u001b[0;34m\u001b[0m\u001b[0m\n",
            "\u001b[0;32m/usr/local/lib/python3.10/dist-packages/ccxt/base/exchange.py\u001b[0m in \u001b[0;36mfetch2\u001b[0;34m(self, path, api, method, params, headers, body, config)\u001b[0m\n\u001b[1;32m   3729\u001b[0m         \u001b[0;32mif\u001b[0m \u001b[0mself\u001b[0m\u001b[0;34m.\u001b[0m\u001b[0menableRateLimit\u001b[0m\u001b[0;34m:\u001b[0m\u001b[0;34m\u001b[0m\u001b[0;34m\u001b[0m\u001b[0m\n\u001b[1;32m   3730\u001b[0m             \u001b[0mcost\u001b[0m \u001b[0;34m=\u001b[0m \u001b[0mself\u001b[0m\u001b[0;34m.\u001b[0m\u001b[0mcalculate_rate_limiter_cost\u001b[0m\u001b[0;34m(\u001b[0m\u001b[0mapi\u001b[0m\u001b[0;34m,\u001b[0m \u001b[0mmethod\u001b[0m\u001b[0;34m,\u001b[0m \u001b[0mpath\u001b[0m\u001b[0;34m,\u001b[0m \u001b[0mparams\u001b[0m\u001b[0;34m,\u001b[0m \u001b[0mconfig\u001b[0m\u001b[0;34m)\u001b[0m\u001b[0;34m\u001b[0m\u001b[0;34m\u001b[0m\u001b[0m\n\u001b[0;32m-> 3731\u001b[0;31m             \u001b[0mself\u001b[0m\u001b[0;34m.\u001b[0m\u001b[0mthrottle\u001b[0m\u001b[0;34m(\u001b[0m\u001b[0mcost\u001b[0m\u001b[0;34m)\u001b[0m\u001b[0;34m\u001b[0m\u001b[0;34m\u001b[0m\u001b[0m\n\u001b[0m\u001b[1;32m   3732\u001b[0m         \u001b[0mself\u001b[0m\u001b[0;34m.\u001b[0m\u001b[0mlastRestRequestTimestamp\u001b[0m \u001b[0;34m=\u001b[0m \u001b[0mself\u001b[0m\u001b[0;34m.\u001b[0m\u001b[0mmilliseconds\u001b[0m\u001b[0;34m(\u001b[0m\u001b[0;34m)\u001b[0m\u001b[0;34m\u001b[0m\u001b[0;34m\u001b[0m\u001b[0m\n\u001b[1;32m   3733\u001b[0m         \u001b[0mrequest\u001b[0m \u001b[0;34m=\u001b[0m \u001b[0mself\u001b[0m\u001b[0;34m.\u001b[0m\u001b[0msign\u001b[0m\u001b[0;34m(\u001b[0m\u001b[0mpath\u001b[0m\u001b[0;34m,\u001b[0m \u001b[0mapi\u001b[0m\u001b[0;34m,\u001b[0m \u001b[0mmethod\u001b[0m\u001b[0;34m,\u001b[0m \u001b[0mparams\u001b[0m\u001b[0;34m,\u001b[0m \u001b[0mheaders\u001b[0m\u001b[0;34m,\u001b[0m \u001b[0mbody\u001b[0m\u001b[0;34m)\u001b[0m\u001b[0;34m\u001b[0m\u001b[0;34m\u001b[0m\u001b[0m\n",
            "\u001b[0;32m/usr/local/lib/python3.10/dist-packages/ccxt/base/exchange.py\u001b[0m in \u001b[0;36mthrottle\u001b[0;34m(self, cost)\u001b[0m\n\u001b[1;32m    537\u001b[0m         \u001b[0;32mif\u001b[0m \u001b[0melapsed\u001b[0m \u001b[0;34m<\u001b[0m \u001b[0msleep_time\u001b[0m\u001b[0;34m:\u001b[0m\u001b[0;34m\u001b[0m\u001b[0;34m\u001b[0m\u001b[0m\n\u001b[1;32m    538\u001b[0m             \u001b[0mdelay\u001b[0m \u001b[0;34m=\u001b[0m \u001b[0msleep_time\u001b[0m \u001b[0;34m-\u001b[0m \u001b[0melapsed\u001b[0m\u001b[0;34m\u001b[0m\u001b[0;34m\u001b[0m\u001b[0m\n\u001b[0;32m--> 539\u001b[0;31m             \u001b[0mtime\u001b[0m\u001b[0;34m.\u001b[0m\u001b[0msleep\u001b[0m\u001b[0;34m(\u001b[0m\u001b[0mdelay\u001b[0m \u001b[0;34m/\u001b[0m \u001b[0;36m1000.0\u001b[0m\u001b[0;34m)\u001b[0m\u001b[0;34m\u001b[0m\u001b[0;34m\u001b[0m\u001b[0m\n\u001b[0m\u001b[1;32m    540\u001b[0m \u001b[0;34m\u001b[0m\u001b[0m\n\u001b[1;32m    541\u001b[0m     \u001b[0;34m@\u001b[0m\u001b[0mstaticmethod\u001b[0m\u001b[0;34m\u001b[0m\u001b[0;34m\u001b[0m\u001b[0m\n",
            "\u001b[0;31mKeyboardInterrupt\u001b[0m: "
          ]
        }
      ]
    }
  ]
}